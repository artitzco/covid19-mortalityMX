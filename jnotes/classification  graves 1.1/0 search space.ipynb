{
 "cells": [
  {
   "cell_type": "code",
   "execution_count": 1,
   "id": "0e5c9af3",
   "metadata": {},
   "outputs": [],
   "source": [
    "import re\n",
    "import os\n",
    "if not 'id_0123456789876543210' in locals():\n",
    "    _rootlevel = 2\n",
    "    _oldwd = re.sub(r'\\\\', '/', os.getcwd())\n",
    "    _spdirs = _oldwd.split('/')\n",
    "    _newwd = '/'.join(_spdirs[:(len(_spdirs)-_rootlevel)])\n",
    "    os.chdir(_newwd)\n",
    "    id_0123456789876543210 = None"
   ]
  },
  {
   "cell_type": "code",
   "execution_count": 2,
   "id": "1cdb4abf",
   "metadata": {},
   "outputs": [],
   "source": [
    "from src.python.optimize.solution import intBinary, floatBinary, ndSolution, Category, ndCategory\n",
    "from src.python.optimize.search import LocalSearch, Cooling\n",
    "import matplotlib.pyplot as plt\n",
    "import pandas as pd\n",
    "import numpy as np\n",
    "import math\n",
    "\n",
    "plt.style.use('ggplot')"
   ]
  },
  {
   "cell_type": "markdown",
   "id": "efff1e9b",
   "metadata": {},
   "source": [
    "# Parametrización de espacio de búsqueda"
   ]
  },
  {
   "cell_type": "markdown",
   "id": "7486d9c6",
   "metadata": {},
   "source": [
    "## Cálculo de valor lambda"
   ]
  },
  {
   "cell_type": "code",
   "execution_count": null,
   "id": "9819e371",
   "metadata": {},
   "outputs": [],
   "source": [
    "def esp(seed, ndcat):\n",
    "    ndcat.random = np.random.RandomState(seed)\n",
    "    x = [ndcat.new() for _ in range(1000)]\n",
    "\n",
    "    def fun(delta, k):\n",
    "        ndcat.delta = [delta]*len(ndcat.solutions)\n",
    "        ndcat.seed = seed\n",
    "        for y in x:\n",
    "            y[0] = k\n",
    "        return np.mean([ndcat.distance(x, ndcat.mutate(x)) for x in x])\n",
    "    return fun"
   ]
  },
  {
   "cell_type": "markdown",
   "id": "f9861cf9",
   "metadata": {
    "papermill": {
     "duration": 0.008089,
     "end_time": "2024-05-13T22:01:15.788346",
     "exception": false,
     "start_time": "2024-05-13T22:01:15.780257",
     "status": "completed"
    },
    "tags": []
   },
   "source": [
    "#### optimizer"
   ]
  },
  {
   "cell_type": "code",
   "execution_count": null,
   "id": "7ee1294a",
   "metadata": {
    "execution": {
     "iopub.execute_input": "2024-05-13T22:01:15.807120Z",
     "iopub.status.busy": "2024-05-13T22:01:15.806685Z",
     "iopub.status.idle": "2024-05-13T22:38:58.720987Z",
     "shell.execute_reply": "2024-05-13T22:38:58.719911Z"
    },
    "papermill": {
     "duration": 2262.934501,
     "end_time": "2024-05-13T22:38:58.731403",
     "exception": false,
     "start_time": "2024-05-13T22:01:15.796902",
     "status": "completed"
    },
    "tags": []
   },
   "outputs": [],
   "source": [
    "ndcat = ndCategory({'Adam', 'Nadam', 'RMSprop', 'SGD'},\n",
    "                   Adam=floatBinary(0, 0.1, digits=4),\n",
    "                   Nadam=floatBinary(0, 0.1, digits=4),\n",
    "                   RMSprop=ndSolution(floatBinary(0, 0.1, digits=4),\n",
    "                                      floatBinary(0, 1, digits=3)),\n",
    "                   SGD=ndSolution(floatBinary(0, 0.1, digits=4),\n",
    "                                  floatBinary(0, 1, digits=3)))\n",
    "\n",
    "sol = floatBinary(1, 2, digits=4).agg('neighbor')\n",
    "sample = 50\n",
    "history = []\n",
    "for i in range(sample):\n",
    "    seed = 1679 + i\n",
    "    feasible_factor = esp(seed, ndcat)\n",
    "    for k in ndcat.solutions.keys():\n",
    "        session = LocalSearch(lambda delta: abs(1-feasible_factor(delta, k)), sol, itermax=250,\n",
    "                              seed=seed, cooling=Cooling.Exp(0.001, itermax=200)).session\n",
    "        history.append({'name': k, 'fmin': session.fmin,\n",
    "                        'xmin': sol.decode(sol.read(session.xmin)), 'seed': seed})\n",
    "history = pd.DataFrame(history)\n",
    "history[history.fmin == 0].groupby('name').xmin.describe()"
   ]
  },
  {
   "cell_type": "markdown",
   "id": "50f5bc22",
   "metadata": {
    "papermill": {
     "duration": 0.008233,
     "end_time": "2024-05-13T22:38:58.787657",
     "exception": false,
     "start_time": "2024-05-13T22:38:58.779424",
     "status": "completed"
    },
    "tags": []
   },
   "source": [
    "#### activation"
   ]
  },
  {
   "cell_type": "code",
   "execution_count": null,
   "id": "b8ced030",
   "metadata": {
    "execution": {
     "iopub.execute_input": "2024-05-13T22:38:58.805750Z",
     "iopub.status.busy": "2024-05-13T22:38:58.805404Z",
     "iopub.status.idle": "2024-05-13T22:53:58.352768Z",
     "shell.execute_reply": "2024-05-13T22:53:58.351956Z"
    },
    "papermill": {
     "duration": 899.568121,
     "end_time": "2024-05-13T22:53:58.364226",
     "exception": false,
     "start_time": "2024-05-13T22:38:58.796105",
     "status": "completed"
    },
    "tags": []
   },
   "outputs": [],
   "source": [
    "ndcat = ndCategory({'ELU', 'LeakyReLU'},\n",
    "                   ELU=floatBinary(0, 0.5, digits=4),\n",
    "                   LeakyReLU=floatBinary(0, 0.5, digits=4))\n",
    "\n",
    "sol = floatBinary(1, 2, digits=4).agg('neighbor')\n",
    "sample = 50\n",
    "history = []\n",
    "for i in range(sample):\n",
    "    seed = 1679 + i\n",
    "    feasible_factor = esp(seed, ndcat)\n",
    "    for k in ndcat.solutions.keys():\n",
    "        session = LocalSearch(lambda delta: abs(1-feasible_factor(delta, k)), sol, itermax=250,\n",
    "                              seed=seed, cooling=Cooling.Exp(0.001, itermax=200)).session\n",
    "        history.append({'name': k, 'fmin': session.fmin,\n",
    "                        'xmin': sol.decode(sol.read(session.xmin)), 'seed': seed})\n",
    "history = pd.DataFrame(history)\n",
    "history[history.fmin == 0].groupby('name').xmin.describe()"
   ]
  },
  {
   "cell_type": "markdown",
   "id": "92abf70c",
   "metadata": {
    "papermill": {
     "duration": 0.008707,
     "end_time": "2024-05-13T22:53:58.421035",
     "exception": false,
     "start_time": "2024-05-13T22:53:58.412328",
     "status": "completed"
    },
    "tags": []
   },
   "source": [
    "#### regularization"
   ]
  },
  {
   "cell_type": "code",
   "execution_count": null,
   "id": "496a83ce",
   "metadata": {
    "execution": {
     "iopub.execute_input": "2024-05-13T22:53:58.441320Z",
     "iopub.status.busy": "2024-05-13T22:53:58.440542Z",
     "iopub.status.idle": "2024-05-13T23:08:23.137422Z",
     "shell.execute_reply": "2024-05-13T23:08:23.136158Z"
    },
    "papermill": {
     "duration": 864.718942,
     "end_time": "2024-05-13T23:08:23.149008",
     "exception": false,
     "start_time": "2024-05-13T22:53:58.430066",
     "status": "completed"
    },
    "tags": []
   },
   "outputs": [],
   "source": [
    "ndcat = ndCategory({'l1', 'l2', 'None'},\n",
    "                   l1=floatBinary(0, 0.1, digits=4),\n",
    "                   l2=floatBinary(0, 0.1, digits=4))\n",
    "\n",
    "sol = floatBinary(1, 2, digits=4).agg('neighbor')\n",
    "sample = 50\n",
    "history = []\n",
    "for i in range(sample):\n",
    "    seed = 1679 + i\n",
    "    feasible_factor = esp(seed, ndcat)\n",
    "    for k in ndcat.solutions.keys():\n",
    "        session = LocalSearch(lambda delta: abs(1-feasible_factor(delta, k)), sol, itermax=250,\n",
    "                              seed=seed, cooling=Cooling.Exp(0.001, itermax=200)).session\n",
    "        history.append({'name': k, 'fmin': session.fmin,\n",
    "                        'xmin': sol.decode(sol.read(session.xmin)), 'seed': seed})\n",
    "history = pd.DataFrame(history)\n",
    "history[history.fmin == 0].groupby('name').xmin.describe()"
   ]
  },
  {
   "cell_type": "markdown",
   "id": "a261eb27",
   "metadata": {
    "papermill": {
     "duration": 0.009484,
     "end_time": "2024-05-13T23:08:23.210424",
     "exception": false,
     "start_time": "2024-05-13T23:08:23.200940",
     "status": "completed"
    },
    "tags": []
   },
   "source": [
    "#### dropout"
   ]
  },
  {
   "cell_type": "code",
   "execution_count": null,
   "id": "eb9ec586",
   "metadata": {
    "execution": {
     "iopub.execute_input": "2024-05-13T23:08:23.231424Z",
     "iopub.status.busy": "2024-05-13T23:08:23.230734Z",
     "iopub.status.idle": "2024-05-13T23:16:00.721931Z",
     "shell.execute_reply": "2024-05-13T23:16:00.721082Z"
    },
    "papermill": {
     "duration": 457.514722,
     "end_time": "2024-05-13T23:16:00.734546",
     "exception": false,
     "start_time": "2024-05-13T23:08:23.219824",
     "status": "completed"
    },
    "tags": []
   },
   "outputs": [],
   "source": [
    "ndcat = ndCategory({'true': True, 'false': False},\n",
    "                   true=floatBinary(0, 0.5, digits=4))\n",
    "\n",
    "sol = floatBinary(1, 2, digits=4).agg('neighbor')\n",
    "sample = 50\n",
    "history = []\n",
    "for i in range(sample):\n",
    "    seed = 1679 + i\n",
    "    feasible_factor = esp(seed, ndcat)\n",
    "    for k in ndcat.solutions.keys():\n",
    "        session = LocalSearch(lambda delta: abs(1-feasible_factor(delta, k)), sol, itermax=250,\n",
    "                              seed=seed, cooling=Cooling.Exp(0.001, itermax=200)).session\n",
    "        history.append({'name': k, 'fmin': session.fmin,\n",
    "                        'xmin': sol.decode(sol.read(session.xmin)), 'seed': seed})\n",
    "history = pd.DataFrame(history)\n",
    "history[history.fmin == 0].groupby('name').xmin.describe()"
   ]
  },
  {
   "cell_type": "markdown",
   "id": "f7bf51dc",
   "metadata": {},
   "source": [
    "--------------------------------------"
   ]
  },
  {
   "cell_type": "markdown",
   "id": "a0401616",
   "metadata": {},
   "source": [
    "## Cálculo de probabilidad de soluciones factibles"
   ]
  },
  {
   "cell_type": "code",
   "execution_count": 3,
   "id": "9eb8060d",
   "metadata": {},
   "outputs": [
    {
     "data": {
      "text/plain": [
       "(neurons=intBinary(1, 512, 9), deep=intBinary(1, 16, 4), optimizer=Category({Adam, Nadam, RMSprop, SGD}, Adam=floatBinary(0.0, 0.1, 10), Nadam=floatBinary(0.0, 0.1, 10), RMSprop=(floatBinary(0.0, 0.1, 10), floatBinary(0.0, 1.0, 10)), SGD=(floatBinary(0.0, 0.1, 10), floatBinary(0.0, 1.0, 10))), activation=Category({ELU, LeakyReLU}, ELU=floatBinary(0.0, 0.5, 13), LeakyReLU=floatBinary(0.0, 0.5, 13)), initializer=Category({normal, uniform}), batch_size=intBinary(1, 256, 8), batch_normalization=Category({False, True}), regularization=Category({None, l1, l2}, l1=floatBinary(0.0, 0.1, 10), l2=floatBinary(0.0, 0.1, 10)), dropout=Category({false, true}, true=floatBinary(0.0, 0.5, 13)))"
      ]
     },
     "execution_count": 3,
     "metadata": {},
     "output_type": "execute_result"
    }
   ],
   "source": [
    "from src.python.optimize.search import SearchSpace\n",
    "\n",
    "\n",
    "class SearchSpace_(SearchSpace):\n",
    "\n",
    "    def __init__(self, seed=None, scale=None) -> None:\n",
    "        solution = ndSolution(\n",
    "            neurons=intBinary(1, 2**9, digits=0),\n",
    "            deep=intBinary(1, 2**4, digits=0),  # x <= 9\n",
    "            optimizer=ndCategory({'Adam', 'Nadam', 'RMSprop', 'SGD'},\n",
    "                                 Adam=floatBinary(0, 0.1, digits=4),  # x > 0\n",
    "                                 Nadam=floatBinary(0, 0.1, digits=4),  # x > 0\n",
    "                                 RMSprop=ndSolution(floatBinary(0, 0.1, digits=4),  # x > 0\n",
    "                                                    floatBinary(0, 1, digits=3)),\n",
    "                                 SGD=ndSolution(floatBinary(0, 0.1, digits=4),  # x > 0\n",
    "                                                floatBinary(0, 1, digits=3)),\n",
    "                                 solname='optimizer_param',\n",
    "                                 delta=(1.316670, 1.316670, 1.185833, 1.185833)),\n",
    "            activation=ndCategory({'ELU', 'LeakyReLU'},\n",
    "                                  ELU=floatBinary(0, 0.5, digits=4),\n",
    "                                  LeakyReLU=floatBinary(0, 0.5, digits=4),\n",
    "                                  solname='activation_alpha',\n",
    "                                  delta=1.091558),\n",
    "            initializer=Category({'uniform', 'normal'}),\n",
    "            batch_size=intBinary(1, 2**8, digits=0),  # x >= 8\n",
    "            batch_normalization=Category({True, False}),\n",
    "            regularization=ndCategory({'l1', 'l2', 'None'},\n",
    "                                      l1=floatBinary(0, 0.1, digits=4),\n",
    "                                      l2=floatBinary(0, 0.1, digits=4),\n",
    "                                      solname='regularization_factor',\n",
    "                                      delta=1.195569),\n",
    "            dropout=ndCategory({'true': True, 'false': False},\n",
    "                               true=floatBinary(0, 0.5, digits=4),\n",
    "                               solname='dropout_rate',\n",
    "                               delta=1.091558)\n",
    "        )\n",
    "        super().__init__(solution, seed)\n",
    "\n",
    "    def is_feasible(self, x):\n",
    "        x = self.solution.decode(x, True)\n",
    "        maxdeep = 1 + math.log(x['neurons'] / 2.0) / math.log(2)\n",
    "        return \\\n",
    "            x['deep'] <= maxdeep and\\\n",
    "            x['optimizer_param'][0] > 0 and\\\n",
    "            x['optimizer_param'][1] > 0 and\\\n",
    "            x['optimizer_param'][2][0] > 0 and\\\n",
    "            x['optimizer_param'][3][0] > 0 and\\\n",
    "            x['batch_size'] >= 8\n",
    "\n",
    "\n",
    "search_space = SearchSpace_()\n",
    "solution = search_space.solution\n",
    "solution.agg('mutate', scale=1 / len(solution))"
   ]
  },
  {
   "cell_type": "code",
   "execution_count": null,
   "id": "52f07245",
   "metadata": {},
   "outputs": [],
   "source": []
  }
 ],
 "metadata": {
  "kaggle": {
   "accelerator": "none",
   "dataSources": [
    {
     "datasetId": 4595405,
     "sourceId": 7839641,
     "sourceType": "datasetVersion"
    },
    {
     "datasetId": 4602200,
     "sourceId": 8069890,
     "sourceType": "datasetVersion"
    }
   ],
   "dockerImageVersionId": 30664,
   "isGpuEnabled": false,
   "isInternetEnabled": true,
   "language": "python",
   "sourceType": "notebook"
  },
  "kernelspec": {
   "display_name": "Python 3",
   "language": "python",
   "name": "python3"
  },
  "language_info": {
   "codemirror_mode": {
    "name": "ipython",
    "version": 3
   },
   "file_extension": ".py",
   "mimetype": "text/x-python",
   "name": "python",
   "nbconvert_exporter": "python",
   "pygments_lexer": "ipython3",
   "version": "3.11.7"
  },
  "papermill": {
   "default_parameters": {},
   "duration": 4507.596889,
   "end_time": "2024-05-13T23:16:01.316755",
   "environment_variables": {},
   "exception": null,
   "input_path": "__notebook__.ipynb",
   "output_path": "__notebook__.ipynb",
   "parameters": {},
   "start_time": "2024-05-13T22:00:53.719866",
   "version": "2.5.0"
  }
 },
 "nbformat": 4,
 "nbformat_minor": 5
}
