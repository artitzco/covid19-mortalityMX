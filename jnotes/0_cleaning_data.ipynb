{
 "cells": [
  {
   "cell_type": "code",
   "execution_count": 2,
   "metadata": {},
   "outputs": [],
   "source": [
    "import re\n",
    "import os\n",
    "if not 'id_0123456789876543210' in locals():\n",
    "    _rootlevel = 1\n",
    "    _oldwd = re.sub(r'\\\\', '/', os.getcwd())\n",
    "    _spdirs = _oldwd.split('/')\n",
    "    _newwd = '/'.join(_spdirs[:(len(_spdirs)-_rootlevel)])\n",
    "    os.chdir(_newwd)\n",
    "    id_0123456789876543210 = None"
   ]
  },
  {
   "cell_type": "code",
   "execution_count": 3,
   "metadata": {},
   "outputs": [],
   "source": [
    "from src.python.dataframe import Catalogue\n",
    "from src.python.dataframe import filter\n",
    "from src.python.util import save_object\n",
    "from src.python.util import load_object\n",
    "from src.python.util import save_json\n",
    "from src.python.util import load_json\n",
    "import pandas as pd\n",
    "import numpy as np\n",
    "from os import path\n"
   ]
  },
  {
   "cell_type": "markdown",
   "metadata": {},
   "source": [
    "# Lectura y limpieza de datos\n",
    "\n",
    "### Catálogo\n",
    "\n"
   ]
  },
  {
   "cell_type": "code",
   "execution_count": 3,
   "metadata": {},
   "outputs": [],
   "source": [
    "catalogue = Catalogue()\n",
    "\n",
    "SI_NO = {'1': 'SI', '2': 'NO', '97': 'NA'}\n",
    "entidad = load_json(path.join('data', 'covid', 'dictionary', 'entidad.json'))\n",
    "\n",
    "catalogue.add(column='EDAD', name='edad',\n",
    "              function=lambda x: [int(x) for x in x])\n",
    "catalogue.add(column='SEXO', name='sexo',\n",
    "              category={'1': 'MUJER', '2': 'HOMBRE'})\n",
    "catalogue.add(column='EMBARAZO', name='embarazo',\n",
    "              category=SI_NO)\n",
    "catalogue.add(column='NACIONALIDAD', name='nacionalidad',\n",
    "              category={'1': 'MEXICANA', '2': 'EXTRANGERA'})\n",
    "catalogue.add(column='MIGRANTE', name='migrante',\n",
    "              category=SI_NO)\n",
    "catalogue.add(column='INDIGENA', name='indigena',\n",
    "              category=SI_NO)\n",
    "catalogue.add(column='HABLA_LENGUA_INDIG', name='lengua_indigena',\n",
    "              category=SI_NO)\n",
    "catalogue.add(column='DIABETES', name='diabetes',\n",
    "              category=SI_NO)\n",
    "catalogue.add(column='EPOC', name='epoc',\n",
    "              category=SI_NO)\n",
    "catalogue.add(column='ASMA', name='asma',\n",
    "              category=SI_NO)\n",
    "catalogue.add(column='INMUSUPR', name='inmunosupresion',\n",
    "              category=SI_NO)\n",
    "catalogue.add(column='HIPERTENSION', name='hipertension',\n",
    "              category=SI_NO)\n",
    "catalogue.add(column='CARDIOVASCULAR', name='cardiovascular',\n",
    "              category=SI_NO)\n",
    "catalogue.add(column='OBESIDAD', name='obesidad',\n",
    "              category=SI_NO)\n",
    "catalogue.add(column='RENAL_CRONICA', name='renal_cronica',\n",
    "              category=SI_NO)\n",
    "catalogue.add(column='TABAQUISMO', name='tabaquismo',\n",
    "              category=SI_NO)\n",
    "catalogue.add(column='OTRA_COM', name='otra_comorbilidad',\n",
    "              category=SI_NO)\n",
    "# Variables regresoras\n",
    "catalogue.add(column='TIPO_PACIENTE', name='tipo',\n",
    "              category={'1': 'AMBULATORIO', '2': 'HOSPITALIZADO'})\n",
    "catalogue.add(column='INTUBADO', name='intubado',\n",
    "              category=SI_NO)\n",
    "catalogue.add(column='NEUMONIA', name='neumonia',\n",
    "              category=SI_NO)\n",
    "catalogue.add(column='UCI', name='uci',\n",
    "              category=SI_NO)\n",
    "# Clasificación\n",
    "catalogue.add(column='OTRO_CASO', name='contacto_covid',\n",
    "              category=SI_NO)\n",
    "catalogue.add(column='RESULTADO_LAB', name='laboratorio',\n",
    "              category={'1': 'POSITIVO', '2': 'NEGATIVO', '3': 'PENDIENTE', '4': 'NO VALIDO', '97': 'NA'})\n",
    "catalogue.add(column='RESULTADO_ANTIGENO', name='antigeno',\n",
    "              category={'1': 'POSITIVO', '2': 'NEGATIVO', '97': 'NA'})\n",
    "catalogue.add(column='CLASIFICACION_FINAL', name='clasificacion',\n",
    "              category={'1': 'ASOCIACION', '2': 'DICTAMINACION', '3': 'CONFIRMACION',\n",
    "                        '4': 'NO VALIDO', '5': 'PENDIENTE', '6': 'SOSPECHOSO', '7': 'NEGATIVO'})\n",
    "# Fechas\n",
    "catalogue.add(column='FECHA_INGRESO', name='fecha_ingreso',\n",
    "              function=lambda x: pd.to_datetime(x, format='%Y-%m-%d'))\n",
    "catalogue.add(column='FECHA_SINTOMAS', name='fecha_sintomas',\n",
    "              function=lambda x: pd.to_datetime(x, format='%Y-%m-%d'))\n",
    "catalogue.add(column='FECHA_DEF', name='fecha_defuncion',\n",
    "              default=pd.NaT,\n",
    "              exception='9999-99-99',\n",
    "              function=lambda x: pd.to_datetime(x, format='%Y-%m-%d'))\n",
    "# Otros\n",
    "catalogue.add(column='ORIGEN', name='origen',\n",
    "              category={'1': 'USMER', '2': 'FUERA DE USMER'})\n",
    "catalogue.add(column='SECTOR', name='sector',\n",
    "              category={'1': 'CRUZ ROJA', '2': 'DIF', '3': 'ESTATAL', '4': 'IMSS', '5': 'IMSS-BIENESTAR',\n",
    "                        '6': 'ISSSTE', '7': 'MUNICIPAL', '8': 'PEMEX', '9': 'PRIVADA', '10': 'SEDENA',\n",
    "                        '11': 'SEMAR', '12': 'SSA', '13': 'UNIVERSITARIO'})\n",
    "catalogue.add(column='ENTIDAD_UM', name='entidad',\n",
    "              category=entidad)\n",
    "catalogue.add(column='ENTIDAD_NAC', name='entidad_nacimiento',\n",
    "              category=entidad)\n",
    "catalogue.add(column='ENTIDAD_RES', name='entidad_residencia',\n",
    "              category=entidad)\n",
    "catalogue.add(column='MUNICIPIO_RES', name='municipio_residencia',\n",
    "              function=lambda x: x)\n",
    "catalogue.add(column='PAIS_NACIONALIDAD', name='pais_nacionalidad',\n",
    "              function=lambda x: ['NE' if (x == 'SE DESCONOCE' or x == '99')\n",
    "                                  else x.upper() for x in x])\n",
    "catalogue.add(column='PAIS_ORIGEN', name='pais_origen',\n",
    "              function=lambda x: ['NE' if x == 'SE DESCONOCE'\n",
    "                                  else ('MÉXICO' if x == '97' else x.upper()) for x in x])\n"
   ]
  },
  {
   "cell_type": "markdown",
   "metadata": {},
   "source": [
    "### Lectura"
   ]
  },
  {
   "cell_type": "code",
   "execution_count": 4,
   "metadata": {},
   "outputs": [],
   "source": [
    "def read_history(file):\n",
    "    return pd.read_csv(path.join('data', 'covid', 'history', file), dtype=str)\n",
    "\n",
    "\n",
    "# Juntas bases históricas\n",
    "superdata = read_history('COVID19MEXICO2024.csv')\n",
    "for subdata in [read_history(f'COVID19MEXICO202{i}.csv') for i in [3, 2, 1, 0]]:\n",
    "    superdata = pd.concat([superdata,\n",
    "                           subdata[~subdata.ID_REGISTRO.isin(superdata.ID_REGISTRO)]])\n",
    "del subdata\n",
    "\n",
    "# Guardar contadores iniciales\n",
    "save_json({col: superdata[col].value_counts().to_dict()\n",
    "           for col in superdata.columns if col != 'ID_REGISTRO'},\n",
    "          path.join('data', 'covid', 'history', 'initial_counts.json'))\n",
    "\n",
    "superdata = (filter(superdata, catalogue)\n",
    "             .sort_values('fecha_ingreso').reset_index(drop=True))\n",
    "\n",
    "# Guardar contadores finales\n",
    "save_json({col: {str(k): v for k, v in superdata[col].value_counts().to_dict().items()}\n",
    "           for col in superdata.columns},\n",
    "          path.join('data', 'covid', 'history', 'final_counts.json'))\n",
    "\n",
    "del catalogue"
   ]
  },
  {
   "cell_type": "markdown",
   "metadata": {},
   "source": [
    "### Clasificación"
   ]
  },
  {
   "cell_type": "code",
   "execution_count": 10,
   "metadata": {},
   "outputs": [
    {
     "data": {
      "text/plain": [
       "{'indeterminados': 1, 'positivos': 1, 'negativos': 1}"
      ]
     },
     "execution_count": 10,
     "metadata": {},
     "output_type": "execute_result"
    }
   ],
   "source": [
    "for name, value in {'indeterminados': ['NO VALIDO', 'PENDIENTE', 'SOSPECHOSO'],\n",
    "                    'positivos': ['ASOCIACION', 'DICTAMINACION', 'CONFIRMACION'],\n",
    "                    'negativos': ['NEGATIVO']\n",
    "                    }.items():\n",
    "    locs = superdata.clasificacion.isin(value)\n",
    "    save_object(superdata[locs],\n",
    "                path.join('data', 'covid', 'cleanned', f'{name}.pkl'))\n",
    "    superdata = superdata[~locs]\n",
    "    print(f'{name[0].upper()}{name[1:]}: {sum(locs)}')\n",
    "\n",
    "del superdata, locs, name, value"
   ]
  },
  {
   "cell_type": "markdown",
   "metadata": {},
   "source": [
    "# Creación de datos de entrenamiento"
   ]
  },
  {
   "cell_type": "markdown",
   "metadata": {},
   "source": [
    "### Variables de entrenamiento"
   ]
  },
  {
   "cell_type": "code",
   "execution_count": 50,
   "metadata": {},
   "outputs": [],
   "source": [
    "# edad máxima 100\n",
    "# días máximos 16\n",
    "\n",
    "data = load_object(path.join('data', 'covid', 'cleanned', 'positivos.pkl'))\n",
    "data['sexo'] = data.sexo + '_' + data.embarazo\n",
    "data['nacionalidad'] = data.nacionalidad + '_' + data.migrante\n",
    "data['indigena'] = data.indigena + '_' + data.lengua_indigena\n",
    "data['dias'] = [x.days for x\n",
    "                in data.fecha_ingreso-data.fecha_sintomas]\n",
    "\n",
    "data['hospitalizacion'] = data.tipo == 'HOSPITALIZADO'\n",
    "data['defuncion'] = ~pd.isna(data.fecha_defuncion)\n",
    "\n",
    "fecha_etapa = np.array([data.fecha_ingreso.min()] +\n",
    "                       [pd.Timestamp(x) for x in\n",
    "                        ['2020-09-20', '2021-05-16', '2021-11-21',\n",
    "                         '2022-04-17', '2022-10-23', '2023-06-25']])\n",
    "etapa = pd.Series('G', data.index)\n",
    "for i, n in enumerate(['A', 'B', 'C', 'D', 'E', 'F']):\n",
    "    etapa[(data.fecha_ingreso >= fecha_etapa[i])\n",
    "          & (data.fecha_ingreso < fecha_etapa[i+1])] = n\n",
    "data['etapa'] = etapa\n",
    "\n",
    "catalogue = Catalogue()\n",
    "catalogue.add('dias', function=lambda x: [\n",
    "              max(0.0, min(1.0, x / 16.0)) for x in x])\n",
    "catalogue.add('edad', function=lambda x: [\n",
    "              max(0.0, min(1.0, x / 100.0)) for x in x])\n",
    "catalogue.add('sexo', category={\n",
    "    'MUJER_NO': 'MUJER',\n",
    "    'HOMBRE_NA': 'HOMBRE',\n",
    "    'MUJER_SI': 'MUJER_SI_EMBARAZO',\n",
    "    'MUJER_NE': 'MUJER_NE_EMBARAZO'\n",
    "})\n",
    "catalogue.add('nacionalidad', category={\n",
    "    'MEXICANA_NE': 'MEXICANA',\n",
    "    'MEXICANA_NO': 'MEXICANA',\n",
    "    'MEXICANA_SI': 'MEXICANA',\n",
    "    'EXTRANGERA_NO': 'EXTRANGERA',\n",
    "    'EXTRANGERA_SI': 'EXTRANGERA_SI_MIGRANTE',\n",
    "    'EXTRANGERA_NE': 'EXTRANGERA_NE_MIGRANTE'\n",
    "})\n",
    "catalogue.add('indigena', category={\n",
    "    'NO_NO': 'NO',\n",
    "    'SI_SI': 'SI',\n",
    "    'SI_NO': 'SI',\n",
    "    'NO_SI': 'SI',\n",
    "    'SI_NE': 'SI',\n",
    "    'NE_SI': 'SI'\n",
    "})\n",
    "for column in ['diabetes', 'epoc', 'asma', 'inmunosupresion',\n",
    "               'hipertension', 'cardiovascular', 'obesidad',\n",
    "               'renal_cronica', 'tabaquismo', 'otra_comorbilidad']:\n",
    "    catalogue.add(column)\n",
    "catalogue.add('etapa')\n",
    "catalogue.add('hospitalizacion')\n",
    "catalogue.add('defuncion')\n",
    "\n",
    "save_object(filter(data, catalogue),\n",
    "            path.join('data', 'covid', 'classification', 'positivos.pkl'))\n",
    "\n",
    "del data, catalogue, column"
   ]
  },
  {
   "cell_type": "markdown",
   "metadata": {},
   "source": [
    "### Estandarización de datos de datos"
   ]
  },
  {
   "cell_type": "code",
   "execution_count": 51,
   "metadata": {},
   "outputs": [],
   "source": [
    "data = load_object(\n",
    "    path.join('data', 'covid', 'classification', 'positivos.pkl'))\n",
    "\n",
    "# Estandarización\n",
    "data = pd.get_dummies(data,\n",
    "                      columns=['sexo', 'nacionalidad', 'indigena', 'diabetes', 'epoc', 'asma',\n",
    "                               'inmunosupresion', 'hipertension', 'cardiovascular', 'obesidad',\n",
    "                               'renal_cronica', 'tabaquismo', 'otra_comorbilidad', 'etapa'])\n",
    "data = data[data.columns.sort_values()]\n",
    "\n",
    "# Creación de datos de test (15%  para datos de pruebas)\n",
    "p_test = 15\n",
    "n_test = int(len(data) * p_test / 100)\n",
    "test_index = np.array([True] * n_test + [False] * (len(data) - n_test))\n",
    "np.random.RandomState(555).shuffle(test_index)\n",
    "\n",
    "# Guardar datos\n",
    "save_object(data.drop(['hospitalizacion', 'defuncion'], axis=1)[test_index],\n",
    "            path.join('data', 'covid', 'classification', 'training', 'xtest.pkl'))\n",
    "save_object(data[['hospitalizacion', 'defuncion']][test_index],\n",
    "            path.join('data', 'covid', 'classification', 'training', 'ytest.pkl'))\n",
    "save_object(data.drop(['hospitalizacion', 'defuncion'], axis=1)[~test_index],\n",
    "            path.join('data', 'covid', 'classification', 'training', 'xtrain.pkl'))\n",
    "save_object(data[['hospitalizacion', 'defuncion']][~test_index],\n",
    "            path.join('data', 'covid', 'classification', 'training', 'ytrain.pkl'))\n",
    "\n",
    "del data"
   ]
  }
 ],
 "metadata": {
  "kernelspec": {
   "display_name": "env",
   "language": "python",
   "name": "python3"
  },
  "language_info": {
   "codemirror_mode": {
    "name": "ipython",
    "version": 3
   },
   "file_extension": ".py",
   "mimetype": "text/x-python",
   "name": "python",
   "nbconvert_exporter": "python",
   "pygments_lexer": "ipython3",
   "version": "3.11.7"
  }
 },
 "nbformat": 4,
 "nbformat_minor": 2
}
